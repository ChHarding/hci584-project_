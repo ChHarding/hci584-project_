{
 "cells": [
  {
   "cell_type": "markdown",
   "metadata": {},
   "source": [
    "Starting with creating a CLI version of my program."
   ]
  },
  {
   "cell_type": "markdown",
   "metadata": {},
   "source": [
    "Starting off with creating a simple version of my program that can run with csv files. Does not take into account draft position or how many players your team can fit."
   ]
  },
  {
   "cell_type": "code",
   "execution_count": 37,
   "metadata": {},
   "outputs": [
    {
     "name": "stdout",
     "output_type": "stream",
     "text": [
      "Defaulting to user installation because normal site-packages is not writeable\n",
      "Collecting sleeper-py\n",
      "  Downloading sleeper_py-1.0.1-py3-none-any.whl.metadata (4.4 kB)\n",
      "Requirement already satisfied: requests>=2.28.1 in c:\\users\\hyunsoo\\appdata\\local\\packages\\pythonsoftwarefoundation.python.3.12_qbz5n2kfra8p0\\localcache\\local-packages\\python312\\site-packages (from sleeper-py) (2.32.3)\n",
      "Requirement already satisfied: charset-normalizer<4,>=2 in c:\\users\\hyunsoo\\appdata\\local\\packages\\pythonsoftwarefoundation.python.3.12_qbz5n2kfra8p0\\localcache\\local-packages\\python312\\site-packages (from requests>=2.28.1->sleeper-py) (3.3.2)\n",
      "Requirement already satisfied: idna<4,>=2.5 in c:\\users\\hyunsoo\\appdata\\local\\packages\\pythonsoftwarefoundation.python.3.12_qbz5n2kfra8p0\\localcache\\local-packages\\python312\\site-packages (from requests>=2.28.1->sleeper-py) (3.7)\n",
      "Requirement already satisfied: urllib3<3,>=1.21.1 in c:\\users\\hyunsoo\\appdata\\local\\packages\\pythonsoftwarefoundation.python.3.12_qbz5n2kfra8p0\\localcache\\local-packages\\python312\\site-packages (from requests>=2.28.1->sleeper-py) (2.2.1)\n",
      "Requirement already satisfied: certifi>=2017.4.17 in c:\\users\\hyunsoo\\appdata\\local\\packages\\pythonsoftwarefoundation.python.3.12_qbz5n2kfra8p0\\localcache\\local-packages\\python312\\site-packages (from requests>=2.28.1->sleeper-py) (2024.2.2)\n",
      "Downloading sleeper_py-1.0.1-py3-none-any.whl (7.5 kB)\n",
      "Installing collected packages: sleeper-py\n",
      "Successfully installed sleeper-py-1.0.1\n",
      "Note: you may need to restart the kernel to use updated packages.\n"
     ]
    }
   ],
   "source": [
    "pip install sleeper-py\n",
    "# found this resource on the internet when looking for sleeper api python on accident, decided to try it out"
   ]
  },
  {
   "cell_type": "code",
   "execution_count": 2,
   "metadata": {},
   "outputs": [],
   "source": [
    "# import packages\n",
    "import pandas as pd\n",
    "import requests\n",
    "from pprint import pprint\n",
    "import json\n",
    "import csv"
   ]
  },
  {
   "cell_type": "code",
   "execution_count": 3,
   "metadata": {},
   "outputs": [],
   "source": [
    "# constants\n",
    "API = \"https://api.sleeper.app/v1/players/nfl\""
   ]
  },
  {
   "cell_type": "markdown",
   "metadata": {},
   "source": [
    "Starting with actual code"
   ]
  },
  {
   "cell_type": "code",
   "execution_count": 4,
   "metadata": {},
   "outputs": [
    {
     "data": {
      "text/plain": [
       "<Response [200]>"
      ]
     },
     "metadata": {},
     "output_type": "display_data"
    },
    {
     "name": "stdout",
     "output_type": "stream",
     "text": [
      "https://api.sleeper.app/v1/players/nfl\n"
     ]
    }
   ],
   "source": [
    "# get response from api request\n",
    "response = requests.get(API)\n",
    "display(response)\n",
    "print(response.url)"
   ]
  },
  {
   "cell_type": "code",
   "execution_count": 13,
   "metadata": {},
   "outputs": [
    {
     "name": "stdout",
     "output_type": "stream",
     "text": [
      "JSON file has been created at: standard.json\n",
      "JSON file has been created at: half ppr.json\n",
      "JSON file has been created at: full ppr.json\n"
     ]
    }
   ],
   "source": [
    "# for testing purposes\n",
    "\n",
    "user_draft = []\n",
    "player_dict = read_players(\"players.json\")\n",
    "standard_json = csv_to_json(\"beatadp_standard_combined__sleeper_rankings.csv\", \"standard.json\")\n",
    "half_ppr_json = csv_to_json(\"beatadp_halfppr_combined__sleeper_rankings.csv\", \"half ppr.json\")\n",
    "full_ppr_json = csv_to_json(\"beatadp_ppr_combined__sleeper_rankings.csv\", \"full ppr.json\")\n",
    "standard = read_players(\"standard.json\")\n",
    "half_ppr = read_players(\"half ppr.json\")\n",
    "full_ppr = read_players(\"full ppr.json\")"
   ]
  },
  {
   "cell_type": "code",
   "execution_count": 14,
   "metadata": {},
   "outputs": [],
   "source": [
    "def draft(player_name, player_dict, user_draft):\n",
    "    '''finds player and add to list of user's players\n",
    "    params: player_name (string)\n",
    "            player_dict (dict)\n",
    "            user_draft (list)\n",
    "    returns: user_draft\n",
    "    '''\n",
    "    found_player = False\n",
    "    for key in player_dict: # looking for player by iterating through dictionary\n",
    "        player = player_dict[key]\n",
    "        full_name = (player['first_name'] + \" \" + player['last_name']).lower()\n",
    "        if full_name == player_name.lower(): # player is only appended if name in dictionary is same\n",
    "            user_draft.append(player)\n",
    "            print(f\"you have drafted {player_name}\")\n",
    "            found_player = True\n",
    "\n",
    "    if found_player == False: # returns false if player not found\n",
    "        print(f\"player {player_name} not found\")\n",
    "        return False\n",
    "    else:\n",
    "        return user_draft"
   ]
  },
  {
   "cell_type": "code",
   "execution_count": 15,
   "metadata": {},
   "outputs": [],
   "source": [
    "def predicted_spots(position, league_size, team_size):\n",
    "    '''def predicted_spots returns all predicted draft spots the user will draft at\n",
    "    \n",
    "    params: position (string): position that player's first pick is\n",
    "            league_size (string): number of people in the league\n",
    "            team_size (string): number of players on each team\n",
    "    '''\n",
    "    draft_order = [] # list for all picks\n",
    "    current_pick = int(position) # starting at the first pick\n",
    "    \n",
    "    for round_number in range(int(team_size)):\n",
    "        if round_number % 2 == 0: # regular order for odd rounds\n",
    "            current_round = list(range(1, int(league_size) + 1))\n",
    "        else: # reverse order for even rounds (snake draft)\n",
    "            current_round = list(range(int(league_size), 0, -1))\n",
    "        \n",
    "        # calculate total pick number\n",
    "        draft_order.append(current_pick + current_round[int(position) - 1] - 1)\n",
    "        current_pick += int(league_size)\n",
    "    \n",
    "    return draft_order"
   ]
  },
  {
   "cell_type": "code",
   "execution_count": 16,
   "metadata": {},
   "outputs": [],
   "source": [
    "def predicted_draft(league_type, draft_order):\n",
    "    predicted = []\n",
    "\n",
    "    if league_type == \"standard\":\n",
    "        for spot in draft_order:\n",
    "            spot_str = str(spot)\n",
    "            for player in standard:\n",
    "                if player.get('Rank') == spot_str:\n",
    "                    predicted.append(player)\n",
    "                    continue\n",
    "    elif league_type == \"half ppr\":\n",
    "        for spot in draft_order:\n",
    "            spot_str = str(spot)\n",
    "            for player in half_ppr:\n",
    "                if player.get('Rank') == spot_str:\n",
    "                    predicted.append(player)\n",
    "                    continue\n",
    "    else:\n",
    "        for spot in draft_order:\n",
    "            spot_str = str(spot)\n",
    "            for player in full_ppr:\n",
    "                if player.get('Rank') == spot_str:\n",
    "                    predicted.append(player)\n",
    "                    continue\n",
    "\n",
    "    return predicted"
   ]
  },
  {
   "cell_type": "code",
   "execution_count": 17,
   "metadata": {},
   "outputs": [
    {
     "name": "stdout",
     "output_type": "stream",
     "text": [
      "[1, 24, 25, 48, 49, 72, 73, 96, 97, 120, 121, 144, 145, 168, 169]\n"
     ]
    }
   ],
   "source": [
    "# testing predicted_spots\n",
    "print(predicted_spots(\"1\", \"12\", \"15\"))"
   ]
  },
  {
   "cell_type": "code",
   "execution_count": 18,
   "metadata": {},
   "outputs": [
    {
     "name": "stdout",
     "output_type": "stream",
     "text": [
      "[{'Rank': '1', 'Player': 'Christian McCaffrey'}, {'Rank': '24', 'Player': 'Josh Jacobs'}, {'Rank': '25', 'Player': 'Travis Kelce'}, {'Rank': '48', 'Player': 'Trey McBride'}, {'Rank': '49', 'Player': 'Mark Andrews'}, {'Rank': '72', 'Player': 'Rome Odunze'}, {'Rank': '73', 'Player': 'Zamir White'}, {'Rank': '96', 'Player': 'Devin Singletary'}, {'Rank': '97', 'Player': 'Brock Purdy'}, {'Rank': '120', 'Player': 'Curtis Samuel'}, {'Rank': '121', 'Player': 'Romeo Doubs'}, {'Rank': '144', 'Player': 'Tyler Allgeier'}, {'Rank': '145', 'Player': 'Gabe Davis'}, {'Rank': '168', 'Player': 'Isaiah Likely'}, {'Rank': '169', 'Player': 'Quentin Johnston'}]\n"
     ]
    }
   ],
   "source": [
    "# testing predicted_draft\n",
    "test_predicted_spots = predicted_spots(\"1\", \"12\", \"15\")\n",
    "print(predicted_draft(\"standard\", test_predicted_spots))"
   ]
  },
  {
   "cell_type": "code",
   "execution_count": 40,
   "metadata": {},
   "outputs": [],
   "source": [
    "def rate_score(grade_num, league_size):\n",
    "    league_size_int = int(league_size)\n",
    "\n",
    "    if grade_num <= -1 * (league_size_int):\n",
    "        return \"S\"\n",
    "    elif grade_num <= -0.6 * (league_size_int) and grade_num > -1 * (league_size_int):\n",
    "        return \"A\"\n",
    "    elif grade_num <= -0.2 * (league_size_int) and grade_num > -0.6 * (league_size_int):\n",
    "        return \"B\"\n",
    "    elif grade_num > -0.2 * (league_size_int) and grade_num <= 0.2 * (league_size_int):\n",
    "        return \"C\"\n",
    "    elif grade_num <= 0.6 * (league_size_int) and grade_num > 0.2 * (league_size_int):\n",
    "        return \"D\"\n",
    "    else:\n",
    "        return \"F\""
   ]
  },
  {
   "cell_type": "code",
   "execution_count": null,
   "metadata": {},
   "outputs": [],
   "source": [
    "def calculate_grade(user_draft, draft_positions, league_type, league_size, team_size):\n",
    "    '''\n",
    "    def calculate_grade calculates draft grade by predicted ranking\n",
    "\n",
    "    params: user_draft (list): list of players user has drafted\n",
    "            draft_positions (list): list of positions user is drafting in\n",
    "    returns: grade (string): letter grade assigned to value, prints predicted score and your score as well\n",
    "    '''\n",
    "    if league_type == \"standard\":\n",
    "        scoring = standard\n",
    "    elif league_type == \"half ppr\":\n",
    "        scoring = half_ppr\n",
    "    else:\n",
    "        league_type = full_ppr\n",
    "\n",
    "    # if statements for each type of scoring\n",
    "    # in each if statement, use player_name from user_draft players to find player ranking in separate scoring system\n",
    "    # for key in (standard, etc.)\n",
    "    # add those rankings together to create predicted score\n",
    "    # probably need to convert type from string to int and then add everything up\n",
    "\n",
    "    # predicted score + draft, rankings and names in separate lists for later\n",
    "    draft_predictions = predicted_draft(league_type, draft_positions) # no need for if statements because predicted_draft has if statements built in\n",
    "    predicted_rankings = []\n",
    "    predicted_names = []\n",
    "    user_rankings = []\n",
    "    user_names = []\n",
    "    deviations = []\n",
    "    rated_picks = []\n",
    "\n",
    "    for x in range(int(team_size)):\n",
    "        # predicted draft\n",
    "        predicted_rankings.append(int(draft_predictions[x]['Rank']))\n",
    "        predicted_names.append(draft_predictions[x]['Player'])\n",
    "\n",
    "        # user draft\n",
    "        for player in scoring:\n",
    "            full_name = (user_draft[x]['first_name'] + \" \" + user_draft[x]['last_name']).lower()\n",
    "            if full_name == player['Player'].lower():\n",
    "                user_names.append(player['Player'])\n",
    "                user_rankings.append(int(player['Rank']))\n",
    "\n",
    "        # calculate deviations between each player\n",
    "        temp_dev = int(user_rankings[x]) - int(predicted_rankings[x])\n",
    "        deviations.append(temp_dev)\n",
    "        rated_picks.append(rate_score(temp_dev, league_size))\n",
    "        print(f\"Your pick at {draft_positions[x]} is rated as a {rated_picks[x]}\")\n",
    "\n",
    "    biggest_reach = max(deviations)\n",
    "    best_pick = min(deviations)\n",
    "    avg_dev = sum(deviations) / int(team_size)\n",
    "    #print(avg_dev)\n",
    "    #print(biggest_reach, best_pick)\n",
    "\n",
    "    biggest_reach_index = deviations.index(max(deviations))\n",
    "    best_pick_index = deviations.index(min(deviations))\n",
    "    biggest_reach_between = [f\"predicted pick was {predicted_names[biggest_reach_index]}\", f\"you picked {user_names[biggest_reach_index]}\"]\n",
    "    best_pick_between = [f\"predicted pick was {predicted_names[best_pick_index]}\", f\"you picked {user_names[best_pick_index]}\"]\n",
    "    #print(biggest_reach_between)\n",
    "    #print(best_pick_between)\n",
    "\n",
    "    print(f\"Your best pick was at pick {draft_positions[best_pick_index]}. Your {best_pick_between[0]} but {best_pick_between[1]}. It was the best pick by {abs(best_pick)} spots.\")\n",
    "    print(f\"Your biggest reach was at pick {draft_positions[biggest_reach_index]}. Your {biggest_reach_between[0]} but {biggest_reach_between[1]}. It was the biggest reach by {biggest_reach} spots.\")\n",
    "    print(f\"Your predicted draft was: {draft_predictions}\")\n",
    "    print(f\"your draft grade is: {rate_score(avg_dev, league_size)}\")\n",
    "    return rate_score(avg_dev, league_size)"
   ]
  },
  {
   "cell_type": "code",
   "execution_count": 21,
   "metadata": {},
   "outputs": [],
   "source": [
    "def read_players(filename):\n",
    "    '''def read_players reads in players into json file\n",
    "\n",
    "    params: filename (string): filename to read\n",
    "    returns: player_dict (dictionary): dictionary with all players\n",
    "    '''\n",
    "    with open(filename , \"r\") as fo:\n",
    "        player_dict = json.load(fo) \n",
    "    return player_dict"
   ]
  },
  {
   "cell_type": "code",
   "execution_count": 22,
   "metadata": {},
   "outputs": [],
   "source": [
    "def csv_to_json(csv_filename, json_filename):\n",
    "    # Read the CSV file\n",
    "    with open(csv_filename, mode='r', encoding='utf-8') as csv_file:\n",
    "        csv_reader = csv.DictReader(csv_file)\n",
    "            \n",
    "        # Convert rows to a list of dictionaries\n",
    "        data = [row for row in csv_reader]\n",
    "\n",
    "    # Write data to a JSON file\n",
    "    with open(json_filename, mode='w', encoding='utf-8') as json_file:\n",
    "        json.dump(data, json_file, indent=4)\n",
    "\n",
    "    print(f\"JSON file has been created at: {json_filename}\")\n",
    "    return json_filename"
   ]
  },
  {
   "cell_type": "code",
   "execution_count": 41,
   "metadata": {},
   "outputs": [
    {
     "name": "stdout",
     "output_type": "stream",
     "text": [
      "JSON file has been created at: standard.json\n",
      "JSON file has been created at: half ppr.json\n",
      "JSON file has been created at: full ppr.json\n",
      "you have drafted christian mccaffrey\n",
      "you have drafted mike evans\n",
      "you have drafted chris olave\n",
      "you have drafted michael pittman\n",
      "you have drafted sam laporta\n",
      "C\n",
      "D\n",
      "B\n",
      "B\n",
      "S\n",
      "-4.2\n",
      "Your best pick was at pick 49. Your predicted pick was Mark Andrews but you picked Sam LaPorta. It was the best pick by 19 spots.\n",
      "Your biggest reach was at pick 24. Your predicted pick was Josh Jacobs but you picked Mike Evans. It was the biggest reach by 5 spots.\n",
      "Your predicted draft was: [{'Rank': '1', 'Player': 'Christian McCaffrey'}, {'Rank': '24', 'Player': 'Josh Jacobs'}, {'Rank': '25', 'Player': 'Travis Kelce'}, {'Rank': '48', 'Player': 'Trey McBride'}, {'Rank': '49', 'Player': 'Mark Andrews'}]\n",
      "your draft grade is: B\n"
     ]
    },
    {
     "data": {
      "text/plain": [
       "'B'"
      ]
     },
     "execution_count": 41,
     "metadata": {},
     "output_type": "execute_result"
    }
   ],
   "source": [
    "user_draft = []\n",
    "player_dict = read_players(\"players.json\")\n",
    "standard_json = csv_to_json(\"beatadp_standard_combined__sleeper_rankings.csv\", \"standard.json\")\n",
    "half_ppr_json = csv_to_json(\"beatadp_halfppr_combined__sleeper_rankings.csv\", \"half ppr.json\")\n",
    "full_ppr_json = csv_to_json(\"beatadp_ppr_combined__sleeper_rankings.csv\", \"full ppr.json\")\n",
    "standard = read_players(\"standard.json\")\n",
    "half_ppr = read_players(\"half ppr.json\")\n",
    "full_ppr = read_players(\"full ppr.json\")\n",
    "\n",
    "league_size = input(\"how many people are in your league? (input int, not string)\")\n",
    "team_size = input(\"how many players are on each team? (input int, not string)\")\n",
    "position = input(\"what number pick is your first pick? (input int, not string)\")\n",
    "league_type = input(\"please input standard, full ppr or half ppr for your league type:\")\n",
    "\n",
    "draft_positions = predicted_spots(position, league_size, team_size)\n",
    "\n",
    "x = 0 # counter for how many picks\n",
    "while x < int(team_size): # user picks team\n",
    "    player_name = input(\"you are currently picking at pick \" + str(draft_positions[x]) + \". please input your player's full name!\")\n",
    "\n",
    "    drafted = draft(player_name, player_dict, user_draft) # originally this was in the if statement but it was printing twice so i fixed by doing this\n",
    "\n",
    "    if drafted == False:\n",
    "        print(\"try again!\")\n",
    "    else:\n",
    "        user_draft = drafted\n",
    "        x += 1\n",
    "\n",
    "calculate_grade(user_draft, draft_positions, league_type, position, league_size, team_size)"
   ]
  },
  {
   "cell_type": "code",
   "execution_count": null,
   "metadata": {},
   "outputs": [],
   "source": []
  }
 ],
 "metadata": {
  "kernelspec": {
   "display_name": "Python 3",
   "language": "python",
   "name": "python3"
  },
  "language_info": {
   "codemirror_mode": {
    "name": "ipython",
    "version": 3
   },
   "file_extension": ".py",
   "mimetype": "text/x-python",
   "name": "python",
   "nbconvert_exporter": "python",
   "pygments_lexer": "ipython3",
   "version": "3.8.5"
  }
 },
 "nbformat": 4,
 "nbformat_minor": 2
}
