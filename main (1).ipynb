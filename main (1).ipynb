{
 "cells": [
  {
   "cell_type": "markdown",
   "metadata": {},
   "source": [
    "Starting with creating a CLI version of my program."
   ]
  },
  {
   "cell_type": "markdown",
   "metadata": {},
   "source": [
    "Starting off with creating a simple version of my program that can run with csv files. Does not take into account draft position or how many players your team can fit."
   ]
  },
  {
   "cell_type": "code",
   "execution_count": 37,
   "metadata": {},
   "outputs": [
    {
     "name": "stdout",
     "output_type": "stream",
     "text": [
      "Defaulting to user installation because normal site-packages is not writeable\n",
      "Collecting sleeper-py\n",
      "  Downloading sleeper_py-1.0.1-py3-none-any.whl.metadata (4.4 kB)\n",
      "Requirement already satisfied: requests>=2.28.1 in c:\\users\\hyunsoo\\appdata\\local\\packages\\pythonsoftwarefoundation.python.3.12_qbz5n2kfra8p0\\localcache\\local-packages\\python312\\site-packages (from sleeper-py) (2.32.3)\n",
      "Requirement already satisfied: charset-normalizer<4,>=2 in c:\\users\\hyunsoo\\appdata\\local\\packages\\pythonsoftwarefoundation.python.3.12_qbz5n2kfra8p0\\localcache\\local-packages\\python312\\site-packages (from requests>=2.28.1->sleeper-py) (3.3.2)\n",
      "Requirement already satisfied: idna<4,>=2.5 in c:\\users\\hyunsoo\\appdata\\local\\packages\\pythonsoftwarefoundation.python.3.12_qbz5n2kfra8p0\\localcache\\local-packages\\python312\\site-packages (from requests>=2.28.1->sleeper-py) (3.7)\n",
      "Requirement already satisfied: urllib3<3,>=1.21.1 in c:\\users\\hyunsoo\\appdata\\local\\packages\\pythonsoftwarefoundation.python.3.12_qbz5n2kfra8p0\\localcache\\local-packages\\python312\\site-packages (from requests>=2.28.1->sleeper-py) (2.2.1)\n",
      "Requirement already satisfied: certifi>=2017.4.17 in c:\\users\\hyunsoo\\appdata\\local\\packages\\pythonsoftwarefoundation.python.3.12_qbz5n2kfra8p0\\localcache\\local-packages\\python312\\site-packages (from requests>=2.28.1->sleeper-py) (2024.2.2)\n",
      "Downloading sleeper_py-1.0.1-py3-none-any.whl (7.5 kB)\n",
      "Installing collected packages: sleeper-py\n",
      "Successfully installed sleeper-py-1.0.1\n",
      "Note: you may need to restart the kernel to use updated packages.\n"
     ]
    }
   ],
   "source": [
    "pip install sleeper-py\n",
    "# found this resource on the internet when looking for sleeper api python on accident, decided to try it out"
   ]
  },
  {
   "cell_type": "code",
   "execution_count": 1,
   "metadata": {},
   "outputs": [],
   "source": [
    "# import packages\n",
    "import pandas as pd\n",
    "import requests\n",
    "from pprint import pprint\n",
    "import json\n",
    "import csv"
   ]
  },
  {
   "cell_type": "code",
   "execution_count": 2,
   "metadata": {},
   "outputs": [],
   "source": [
    "# constants\n",
    "API = \"https://api.sleeper.app/v1/players/nfl\""
   ]
  },
  {
   "cell_type": "markdown",
   "metadata": {},
   "source": [
    "Starting with actual code"
   ]
  },
  {
   "cell_type": "code",
   "execution_count": 3,
   "metadata": {},
   "outputs": [
    {
     "data": {
      "text/plain": [
       "<Response [200]>"
      ]
     },
     "metadata": {},
     "output_type": "display_data"
    },
    {
     "name": "stdout",
     "output_type": "stream",
     "text": [
      "https://api.sleeper.app/v1/players/nfl\n"
     ]
    }
   ],
   "source": [
    "# get response from api request\n",
    "response = requests.get(API)\n",
    "display(response)\n",
    "print(response.url)"
   ]
  },
  {
   "cell_type": "code",
   "execution_count": 4,
   "metadata": {},
   "outputs": [],
   "source": [
    "def draft(player_name, player_dict, user_draft):\n",
    "    '''finds player and add to list of user's players\n",
    "    params: player_name (string)\n",
    "            player_dict (dict)\n",
    "            user_draft (list)\n",
    "    returns: user_draft\n",
    "    '''\n",
    "    found_player = False\n",
    "    for key in player_dict: # looking for player by iterating through dictionary\n",
    "        player = player_dict[key]\n",
    "        full_name = (player['first_name'] + \" \" + player['last_name']).lower()\n",
    "        if full_name == player_name.lower(): # player is only appended if name in dictionary is same\n",
    "            user_draft.append(player)\n",
    "            print(f\"you have drafted {player_name}\")\n",
    "            found_player = True\n",
    "\n",
    "    if found_player == False: # returns false if player not found\n",
    "        print(f\"player {player_name} not found\")\n",
    "        return False\n",
    "    else:\n",
    "        return user_draft"
   ]
  },
  {
   "cell_type": "code",
   "execution_count": 5,
   "metadata": {},
   "outputs": [],
   "source": [
    "def predicted_spots(position, league_size, team_size):\n",
    "    '''def predicted_spots returns all predicted draft spots the user will draft at\n",
    "    \n",
    "    params: position (string): position that player's first pick is\n",
    "            league_size (string): number of people in the league\n",
    "            team_size (string): number of players on each team\n",
    "    '''\n",
    "    draft_order = [] # list for all picks\n",
    "    current_pick = int(position) # starting at the first pick\n",
    "    \n",
    "    for round_number in range(int(team_size)):\n",
    "        if round_number % 2 == 0: # regular order for odd rounds\n",
    "            current_round = list(range(1, int(league_size) + 1))\n",
    "        else: # reverse order for even rounds (snake draft)\n",
    "            current_round = list(range(int(league_size), 0, -1))\n",
    "        \n",
    "        # calculate total pick number\n",
    "        draft_order.append(current_pick + current_round[int(position) - 1] - 1)\n",
    "        current_pick += int(league_size)\n",
    "    \n",
    "    return draft_order"
   ]
  },
  {
   "cell_type": "code",
   "execution_count": 38,
   "metadata": {},
   "outputs": [],
   "source": [
    "def predicted_draft(league_type, draft_order):\n",
    "    predicted = []\n",
    "\n",
    "    if league_type == \"standard\":\n",
    "        for spot in draft_order:\n",
    "            spot_str = str(spot)\n",
    "            for player in standard:\n",
    "                if player.get('Rank') == spot_str:\n",
    "                    predicted.append(player)\n",
    "                    continue\n",
    "    elif league_type == \"half ppr\":\n",
    "        for spot in draft_order:\n",
    "            spot_str = str(spot)\n",
    "            for player in half_ppr:\n",
    "                if player.get('Rank') == spot_str:\n",
    "                    predicted.append(player)\n",
    "                    continue\n",
    "    else:\n",
    "        for spot in draft_order:\n",
    "            spot_str = str(spot)\n",
    "            for player in full_ppr:\n",
    "                if player.get('Rank') == spot_str:\n",
    "                    predicted.append(player)\n",
    "                    continue\n",
    "\n",
    "    return predicted"
   ]
  },
  {
   "cell_type": "code",
   "execution_count": 39,
   "metadata": {},
   "outputs": [
    {
     "name": "stdout",
     "output_type": "stream",
     "text": [
      "[1, 24, 25, 48, 49, 72, 73, 96, 97, 120, 121, 144, 145, 168, 169]\n"
     ]
    }
   ],
   "source": [
    "# testing predicted_spots\n",
    "print(predicted_spots(\"1\", \"12\", \"15\"))"
   ]
  },
  {
   "cell_type": "code",
   "execution_count": 40,
   "metadata": {},
   "outputs": [
    {
     "ename": "AttributeError",
     "evalue": "'str' object has no attribute 'get'",
     "output_type": "error",
     "traceback": [
      "\u001b[1;31m---------------------------------------------------------------------------\u001b[0m",
      "\u001b[1;31mAttributeError\u001b[0m                            Traceback (most recent call last)",
      "\u001b[1;32m<ipython-input-40-1c137c450aed>\u001b[0m in \u001b[0;36m<module>\u001b[1;34m\u001b[0m\n\u001b[0;32m      1\u001b[0m \u001b[1;31m# testing predicted_draft\u001b[0m\u001b[1;33m\u001b[0m\u001b[1;33m\u001b[0m\u001b[1;33m\u001b[0m\u001b[0m\n\u001b[0;32m      2\u001b[0m \u001b[0mtest_predicted_spots\u001b[0m \u001b[1;33m=\u001b[0m \u001b[0mpredicted_spots\u001b[0m\u001b[1;33m(\u001b[0m\u001b[1;34m\"1\"\u001b[0m\u001b[1;33m,\u001b[0m \u001b[1;34m\"12\"\u001b[0m\u001b[1;33m,\u001b[0m \u001b[1;34m\"15\"\u001b[0m\u001b[1;33m)\u001b[0m\u001b[1;33m\u001b[0m\u001b[1;33m\u001b[0m\u001b[0m\n\u001b[1;32m----> 3\u001b[1;33m \u001b[0mprint\u001b[0m\u001b[1;33m(\u001b[0m\u001b[0mpredicted_draft\u001b[0m\u001b[1;33m(\u001b[0m\u001b[1;34m\"standard\"\u001b[0m\u001b[1;33m,\u001b[0m \u001b[0mtest_predicted_spots\u001b[0m\u001b[1;33m)\u001b[0m\u001b[1;33m)\u001b[0m\u001b[1;33m\u001b[0m\u001b[1;33m\u001b[0m\u001b[0m\n\u001b[0m",
      "\u001b[1;32m<ipython-input-38-d5ab53fa4565>\u001b[0m in \u001b[0;36mpredicted_draft\u001b[1;34m(league_type, draft_order)\u001b[0m\n\u001b[0;32m      6\u001b[0m             \u001b[0mspot_str\u001b[0m \u001b[1;33m=\u001b[0m \u001b[0mstr\u001b[0m\u001b[1;33m(\u001b[0m\u001b[0mspot\u001b[0m\u001b[1;33m)\u001b[0m\u001b[1;33m\u001b[0m\u001b[1;33m\u001b[0m\u001b[0m\n\u001b[0;32m      7\u001b[0m             \u001b[1;32mfor\u001b[0m \u001b[0mplayer\u001b[0m \u001b[1;32min\u001b[0m \u001b[0mstandard\u001b[0m\u001b[1;33m:\u001b[0m\u001b[1;33m\u001b[0m\u001b[1;33m\u001b[0m\u001b[0m\n\u001b[1;32m----> 8\u001b[1;33m                 \u001b[1;32mif\u001b[0m \u001b[0mplayer\u001b[0m\u001b[1;33m.\u001b[0m\u001b[0mget\u001b[0m\u001b[1;33m(\u001b[0m\u001b[1;34m'Rank'\u001b[0m\u001b[1;33m)\u001b[0m \u001b[1;33m==\u001b[0m \u001b[0mspot_str\u001b[0m\u001b[1;33m:\u001b[0m\u001b[1;33m\u001b[0m\u001b[1;33m\u001b[0m\u001b[0m\n\u001b[0m\u001b[0;32m      9\u001b[0m                     \u001b[0mpredicted\u001b[0m\u001b[1;33m.\u001b[0m\u001b[0mappend\u001b[0m\u001b[1;33m(\u001b[0m\u001b[0mplayer\u001b[0m\u001b[1;33m)\u001b[0m\u001b[1;33m\u001b[0m\u001b[1;33m\u001b[0m\u001b[0m\n\u001b[0;32m     10\u001b[0m                     \u001b[1;32mcontinue\u001b[0m\u001b[1;33m\u001b[0m\u001b[1;33m\u001b[0m\u001b[0m\n",
      "\u001b[1;31mAttributeError\u001b[0m: 'str' object has no attribute 'get'"
     ]
    }
   ],
   "source": [
    "# testing predicted_draft\n",
    "test_predicted_spots = predicted_spots(\"1\", \"12\", \"15\")\n",
    "print(predicted_draft(\"standard\", test_predicted_spots))"
   ]
  },
  {
   "cell_type": "code",
   "execution_count": null,
   "metadata": {},
   "outputs": [],
   "source": [
    "def calculate_grade(user_draft, draft_positions, league_type, predicted_draft, predicted_spots, position, league_size, team_size):\n",
    "    '''\n",
    "    def calculate_grade calculates draft grade by predicted ranking\n",
    "\n",
    "    params: user_draft (list): list of players user has drafted\n",
    "            draft_positions (list): list of positions user is drafting in\n",
    "    returns: grade (string): letter grade assigned to value, prints predicted score and your score as well\n",
    "    '''\n",
    "    if league_type == \"standard\":\n",
    "        scoring = standard\n",
    "    elif league_type == \"half ppr\":\n",
    "        scoring = half_ppr\n",
    "    else:\n",
    "        league_type = full_ppr\n",
    "\n",
    "    predicted_score = 0 # predicted score is based on player ranking from previous seasons, by adding all the picks we should get the predicted score as the predicted draft will be the player rated at that draft pick (i.e. the 72nd pick will be the 72nd best player)\n",
    "    for round in draft_positions:\n",
    "        predicted_score += round\n",
    "    \n",
    "    print(f\"your predicted score is: {predicted_score}\")\n",
    "\n",
    "    # if statements for each type of scoring\n",
    "    # in each if statement, use player_name from user_draft players to find player ranking in separate scoring system\n",
    "    # for key in (standard, etc.)\n",
    "    # add those rankings together to create predicted score\n",
    "    # probably need to convert type from string to int and then add everything up\n",
    "\n",
    "    # predicted score + draft, rankings and names in separate lists for later\n",
    "    predicted_spots = predicted_spots(position, league_size, team_size)\n",
    "    predicted_draft = predicted_draft(league_type, draft_positions) # no need for if statements because predicted_draft has if statements built in\n",
    "    predicted_rankings = []\n",
    "    predicted_names = []\n",
    "    user_rankings = []\n",
    "    user_names = []\n",
    "    deviations = []\n",
    "\n",
    "    for x in range(team_size):\n",
    "        # predicted draft\n",
    "        predicted_rankings.append(int(predicted_draft[x['Rank']]))\n",
    "        predicted_names.append(int(predicted_draft[x['Player']]))\n",
    "\n",
    "        # user draft\n",
    "        for player in scoring:\n",
    "            full_name = (user_draft[x['first_name']] + \" \" + user_draft[['last_name']]).lower()\n",
    "            if full_name == player['Player'].lower():\n",
    "                user_names.append(player['Player'])\n",
    "                user_rankings.append(player['Rank'])\n",
    "\n",
    "        # calculate deviations between each player\n",
    "        temp_dev = int(user_rankings[x]) - int(predicted_rankings[x])\n",
    "        deviations.append(temp_dev)\n",
    "            \n",
    "    score = sum(deviations) - predicted_score\n",
    "\n",
    "    largest = max(deviations)\n",
    "    smallest = min(deviations)\n",
    "    largest_between = [f\"Predicted: {predicted_draft.index(max(deviations))}\", f\"User: {user_draft.index(max(deviations))}\"]\n",
    "    smallest_between = [f\"Predicted: {predicted_draft.index(min(deviations))}\", f\"User: {user_draft.index(min(deviations))}\"]\n",
    "\n",
    "    print(f\"your score is: {score}\") # printing both predicted and real score to let user see a little on how it was graded\n",
    "\n",
    "    print(\"your draft grade is: \")\n",
    "    if score <= -15:\n",
    "        return \"S\"\n",
    "    if score <= -10:\n",
    "        return \"A\"\n",
    "    if score <= -5:\n",
    "        return \"B\"\n",
    "    if score <= 0:\n",
    "        return \"C\"\n",
    "    if score <= 5:\n",
    "        return \"D\"\n",
    "    else:\n",
    "        return \"F\""
   ]
  },
  {
   "cell_type": "code",
   "execution_count": 11,
   "metadata": {},
   "outputs": [],
   "source": [
    "def read_players(filename):\n",
    "    '''def read_players reads in players into json file\n",
    "\n",
    "    params: filename (string): filename to read\n",
    "    returns: player_dict (dictionary): dictionary with all players\n",
    "    '''\n",
    "    with open(filename , \"r\") as fo:\n",
    "        player_dict = json.load(fo) \n",
    "    return player_dict"
   ]
  },
  {
   "cell_type": "code",
   "execution_count": 12,
   "metadata": {},
   "outputs": [],
   "source": [
    "def csv_to_json(csv_filename, json_filename):\n",
    "    # Read the CSV file\n",
    "    with open(csv_filename, mode='r', encoding='utf-8') as csv_file:\n",
    "        csv_reader = csv.DictReader(csv_file)\n",
    "            \n",
    "        # Convert rows to a list of dictionaries\n",
    "        data = [row for row in csv_reader]\n",
    "\n",
    "    # Write data to a JSON file\n",
    "    with open(json_filename, mode='w', encoding='utf-8') as json_file:\n",
    "        json.dump(data, json_file, indent=4)\n",
    "\n",
    "    print(f\"JSON file has been created at: {json_filename}\")\n",
    "    return json_filename"
   ]
  },
  {
   "cell_type": "code",
   "execution_count": 13,
   "metadata": {},
   "outputs": [
    {
     "name": "stdout",
     "output_type": "stream",
     "text": [
      "JSON file has been created at: standard.json\n",
      "JSON file has been created at: half ppr.json\n",
      "JSON file has been created at: full ppr.json\n"
     ]
    }
   ],
   "source": [
    "user_draft = []\n",
    "player_dict = read_players(\"players.json\")\n",
    "standard_json = csv_to_json(\"beatadp_standard_combined__sleeper_rankings.csv\", \"standard.json\")\n",
    "half_ppr_json = csv_to_json(\"beatadp_halfppr_combined__sleeper_rankings.csv\", \"half ppr.json\")\n",
    "full_ppr_json = csv_to_json(\"beatadp_ppr_combined__sleeper_rankings.csv\", \"full ppr.json\")\n",
    "standard = read_players(\"standard.json\")\n",
    "half_ppr = read_players(\"half ppr.json\")\n",
    "full_ppr = read_players(\"full ppr.json\")"
   ]
  },
  {
   "cell_type": "code",
   "execution_count": 41,
   "metadata": {},
   "outputs": [
    {
     "name": "stdout",
     "output_type": "stream",
     "text": [
      "JSON file has been created at: standard.json\n",
      "JSON file has been created at: half ppr.json\n",
      "JSON file has been created at: full ppr.json\n",
      "you have drafted justin jefferson\n",
      "you have drafted travis kelce\n",
      "you have drafted sam laporta\n",
      "you have drafted christian mccaffrey\n",
      "you have drafted a.j. brown\n",
      "your predicted score is: 147\n"
     ]
    },
    {
     "ename": "TypeError",
     "evalue": "'list' object is not callable",
     "output_type": "error",
     "traceback": [
      "\u001b[1;31m---------------------------------------------------------------------------\u001b[0m",
      "\u001b[1;31mTypeError\u001b[0m                                 Traceback (most recent call last)",
      "\u001b[1;32m<ipython-input-41-84934abadfe4>\u001b[0m in \u001b[0;36m<module>\u001b[1;34m\u001b[0m\n\u001b[0;32m     27\u001b[0m         \u001b[0mx\u001b[0m \u001b[1;33m+=\u001b[0m \u001b[1;36m1\u001b[0m\u001b[1;33m\u001b[0m\u001b[1;33m\u001b[0m\u001b[0m\n\u001b[0;32m     28\u001b[0m \u001b[1;33m\u001b[0m\u001b[0m\n\u001b[1;32m---> 29\u001b[1;33m \u001b[0mprint\u001b[0m\u001b[1;33m(\u001b[0m\u001b[0mcalculate_grade\u001b[0m\u001b[1;33m(\u001b[0m\u001b[0muser_draft\u001b[0m\u001b[1;33m,\u001b[0m \u001b[0mdraft_positions\u001b[0m\u001b[1;33m,\u001b[0m \u001b[0mleague_type\u001b[0m\u001b[1;33m,\u001b[0m \u001b[0mpredicted_draft\u001b[0m\u001b[1;33m(\u001b[0m\u001b[0mleague_type\u001b[0m\u001b[1;33m,\u001b[0m \u001b[0mdraft_positions\u001b[0m\u001b[1;33m)\u001b[0m\u001b[1;33m,\u001b[0m \u001b[0mdraft_positions\u001b[0m\u001b[1;33m,\u001b[0m \u001b[0mposition\u001b[0m\u001b[1;33m,\u001b[0m \u001b[0mleague_size\u001b[0m\u001b[1;33m,\u001b[0m \u001b[0mteam_size\u001b[0m\u001b[1;33m)\u001b[0m\u001b[1;33m)\u001b[0m\u001b[1;33m\u001b[0m\u001b[1;33m\u001b[0m\u001b[0m\n\u001b[0m",
      "\u001b[1;32m<ipython-input-30-36bdd05164cd>\u001b[0m in \u001b[0;36mcalculate_grade\u001b[1;34m(user_draft, draft_positions, league_type, predicted_draft, predicted_spots, position, league_size, team_size)\u001b[0m\n\u001b[0;32m     27\u001b[0m \u001b[1;33m\u001b[0m\u001b[0m\n\u001b[0;32m     28\u001b[0m     \u001b[1;31m# predicted score + draft, rankings and names in separate lists for later\u001b[0m\u001b[1;33m\u001b[0m\u001b[1;33m\u001b[0m\u001b[1;33m\u001b[0m\u001b[0m\n\u001b[1;32m---> 29\u001b[1;33m     \u001b[0mpredicted_spots\u001b[0m \u001b[1;33m=\u001b[0m \u001b[0mpredicted_spots\u001b[0m\u001b[1;33m(\u001b[0m\u001b[0mposition\u001b[0m\u001b[1;33m,\u001b[0m \u001b[0mleague_size\u001b[0m\u001b[1;33m,\u001b[0m \u001b[0mteam_size\u001b[0m\u001b[1;33m)\u001b[0m\u001b[1;33m\u001b[0m\u001b[1;33m\u001b[0m\u001b[0m\n\u001b[0m\u001b[0;32m     30\u001b[0m     \u001b[0mpredicted_draft\u001b[0m \u001b[1;33m=\u001b[0m \u001b[0mpredicted_draft\u001b[0m\u001b[1;33m(\u001b[0m\u001b[0mleague_type\u001b[0m\u001b[1;33m,\u001b[0m \u001b[0mdraft_positions\u001b[0m\u001b[1;33m)\u001b[0m \u001b[1;31m# no need for if statements because predicted_draft has if statements built in\u001b[0m\u001b[1;33m\u001b[0m\u001b[1;33m\u001b[0m\u001b[0m\n\u001b[0;32m     31\u001b[0m     \u001b[0mpredicted_rankings\u001b[0m \u001b[1;33m=\u001b[0m \u001b[1;33m[\u001b[0m\u001b[1;33m]\u001b[0m\u001b[1;33m\u001b[0m\u001b[1;33m\u001b[0m\u001b[0m\n",
      "\u001b[1;31mTypeError\u001b[0m: 'list' object is not callable"
     ]
    }
   ],
   "source": [
    "user_draft = []\n",
    "player_dict = read_players(\"players.json\")\n",
    "standard_json = csv_to_json(\"beatadp_standard_combined__sleeper_rankings.csv\", \"standard.json\")\n",
    "half_ppr_json = csv_to_json(\"beatadp_halfppr_combined__sleeper_rankings.csv\", \"half ppr.json\")\n",
    "full_ppr_json = csv_to_json(\"beatadp_ppr_combined__sleeper_rankings.csv\", \"full ppr.json\")\n",
    "standard = read_players(\"standard.json\")\n",
    "half_ppr = read_players(\"half ppr.json\")\n",
    "full_ppr = read_players(\"full ppr.json\")\n",
    "\n",
    "league_size = input(\"how many people are in your league? (input int, not string)\")\n",
    "team_size = input(\"how many players are on each team? (input int, not string)\")\n",
    "position = input(\"what number pick is your first pick? (input int, not string)\")\n",
    "league_type = input(\"please input standard, full ppr or half ppr for your league type:\")\n",
    "\n",
    "draft_positions = predicted_spots(position, league_size, team_size)\n",
    "\n",
    "x = 0 # counter for how many picks\n",
    "while x < int(team_size): # user picks team\n",
    "    player_name = input(\"you are currently picking at pick \" + str(draft_positions[x]) + \". please input your player's full name!\")\n",
    "\n",
    "    drafted = draft(player_name, player_dict, user_draft) # originally this was in the if statement but it was printing twice so i fixed by doing this\n",
    "\n",
    "    if drafted == False:\n",
    "        print(\"try again!\")\n",
    "    else:\n",
    "        user_draft = drafted\n",
    "        x += 1\n",
    "\n",
    "print(calculate_grade(user_draft, draft_positions, league_type, predicted_draft(league_type, draft_positions), draft_positions, position, league_size, team_size))"
   ]
  },
  {
   "cell_type": "code",
   "execution_count": null,
   "metadata": {},
   "outputs": [],
   "source": []
  }
 ],
 "metadata": {
  "kernelspec": {
   "display_name": "Python 3",
   "language": "python",
   "name": "python3"
  },
  "language_info": {
   "codemirror_mode": {
    "name": "ipython",
    "version": 3
   },
   "file_extension": ".py",
   "mimetype": "text/x-python",
   "name": "python",
   "nbconvert_exporter": "python",
   "pygments_lexer": "ipython3",
   "version": "3.8.5"
  }
 },
 "nbformat": 4,
 "nbformat_minor": 2
}
