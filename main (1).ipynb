{
 "cells": [
  {
   "cell_type": "markdown",
   "metadata": {},
   "source": [
    "Starting with creating a CLI version of my program."
   ]
  },
  {
   "cell_type": "markdown",
   "metadata": {},
   "source": [
    "Starting off with creating a simple version of my program that can run with csv files. Does not take into account draft position or how many players your team can fit."
   ]
  },
  {
   "cell_type": "code",
   "execution_count": 37,
   "metadata": {},
   "outputs": [
    {
     "name": "stdout",
     "output_type": "stream",
     "text": [
      "Defaulting to user installation because normal site-packages is not writeable\n",
      "Collecting sleeper-py\n",
      "  Downloading sleeper_py-1.0.1-py3-none-any.whl.metadata (4.4 kB)\n",
      "Requirement already satisfied: requests>=2.28.1 in c:\\users\\hyunsoo\\appdata\\local\\packages\\pythonsoftwarefoundation.python.3.12_qbz5n2kfra8p0\\localcache\\local-packages\\python312\\site-packages (from sleeper-py) (2.32.3)\n",
      "Requirement already satisfied: charset-normalizer<4,>=2 in c:\\users\\hyunsoo\\appdata\\local\\packages\\pythonsoftwarefoundation.python.3.12_qbz5n2kfra8p0\\localcache\\local-packages\\python312\\site-packages (from requests>=2.28.1->sleeper-py) (3.3.2)\n",
      "Requirement already satisfied: idna<4,>=2.5 in c:\\users\\hyunsoo\\appdata\\local\\packages\\pythonsoftwarefoundation.python.3.12_qbz5n2kfra8p0\\localcache\\local-packages\\python312\\site-packages (from requests>=2.28.1->sleeper-py) (3.7)\n",
      "Requirement already satisfied: urllib3<3,>=1.21.1 in c:\\users\\hyunsoo\\appdata\\local\\packages\\pythonsoftwarefoundation.python.3.12_qbz5n2kfra8p0\\localcache\\local-packages\\python312\\site-packages (from requests>=2.28.1->sleeper-py) (2.2.1)\n",
      "Requirement already satisfied: certifi>=2017.4.17 in c:\\users\\hyunsoo\\appdata\\local\\packages\\pythonsoftwarefoundation.python.3.12_qbz5n2kfra8p0\\localcache\\local-packages\\python312\\site-packages (from requests>=2.28.1->sleeper-py) (2024.2.2)\n",
      "Downloading sleeper_py-1.0.1-py3-none-any.whl (7.5 kB)\n",
      "Installing collected packages: sleeper-py\n",
      "Successfully installed sleeper-py-1.0.1\n",
      "Note: you may need to restart the kernel to use updated packages.\n"
     ]
    }
   ],
   "source": [
    "pip install sleeper-py\n",
    "# found this resource on the internet when looking for sleeper api python on accident, decided to try it out"
   ]
  },
  {
   "cell_type": "code",
   "execution_count": 2,
   "metadata": {},
   "outputs": [],
   "source": [
    "# import packages\n",
    "import pandas as pd\n",
    "import requests\n",
    "from pprint import pprint\n",
    "import json\n",
    "import csv"
   ]
  },
  {
   "cell_type": "code",
   "execution_count": 2,
   "metadata": {},
   "outputs": [],
   "source": [
    "# constants\n",
    "API = \"https://api.sleeper.app/v1/players/nfl\""
   ]
  },
  {
   "cell_type": "markdown",
   "metadata": {},
   "source": [
    "Starting with actual code"
   ]
  },
  {
   "cell_type": "code",
   "execution_count": 3,
   "metadata": {},
   "outputs": [
    {
     "data": {
      "text/plain": [
       "<Response [200]>"
      ]
     },
     "metadata": {},
     "output_type": "display_data"
    },
    {
     "name": "stdout",
     "output_type": "stream",
     "text": [
      "https://api.sleeper.app/v1/players/nfl\n"
     ]
    }
   ],
   "source": [
    "# get response from api request\n",
    "response = requests.get(API)\n",
    "display(response)\n",
    "print(response.url)"
   ]
  },
  {
   "cell_type": "code",
   "execution_count": 4,
   "metadata": {},
   "outputs": [],
   "source": [
    "def draft(player_name, player_dict, user_draft):\n",
    "    '''finds player and add to list of user's players\n",
    "    params: player_name (string)\n",
    "            player_dict (dict)\n",
    "            user_draft (list)\n",
    "    returns: user_draft\n",
    "    '''\n",
    "    found_player = False\n",
    "    for key in player_dict: # looking for player by iterating through dictionary\n",
    "        player = player_dict[key]\n",
    "        full_name = (player['first_name'] + \" \" + player['last_name']).lower()\n",
    "        if full_name == player_name.lower(): # player is only appended if name in dictionary is same\n",
    "            user_draft.append(player)\n",
    "            print(f\"you have drafted {player_name}\")\n",
    "            found_player = True\n",
    "\n",
    "    if found_player == False: # returns false if player not found\n",
    "        print(f\"player {player_name} not found\")\n",
    "        return False\n",
    "    else:\n",
    "        return user_draft"
   ]
  },
  {
   "cell_type": "code",
   "execution_count": 5,
   "metadata": {},
   "outputs": [],
   "source": [
    "def predicted_spots(position, league_size, team_size):\n",
    "    '''def predicted_spots returns all predicted draft spots the user will draft at\n",
    "    \n",
    "    params: position (string): position that player's first pick is\n",
    "            league_size (string): number of people in the league\n",
    "            team_size (string): number of players on each team\n",
    "    '''\n",
    "    draft_order = [] # list for all picks\n",
    "    current_pick = int(position) # starting at the first pick\n",
    "    \n",
    "    for round_number in range(int(team_size)):\n",
    "        if round_number % 2 == 0: # regular order for odd rounds\n",
    "            current_round = list(range(1, int(league_size) + 1))\n",
    "        else: # reverse order for even rounds (snake draft)\n",
    "            current_round = list(range(int(league_size), 0, -1))\n",
    "        \n",
    "        # calculate total pick number\n",
    "        draft_order.append(current_pick + current_round[int(position) - 1] - 1)\n",
    "        current_pick += int(league_size)\n",
    "    \n",
    "    return draft_order"
   ]
  },
  {
   "cell_type": "code",
   "execution_count": 6,
   "metadata": {},
   "outputs": [
    {
     "name": "stdout",
     "output_type": "stream",
     "text": [
      "[1, 24, 25, 48, 49, 72, 73, 96, 97, 120, 121, 144, 145, 168, 169]\n"
     ]
    }
   ],
   "source": [
    "# testing predicted_spots\n",
    "print(predicted_spots(\"1\", \"12\", \"15\"))"
   ]
  },
  {
   "cell_type": "code",
   "execution_count": 7,
   "metadata": {},
   "outputs": [],
   "source": [
    "def calculate_grade(user_draft, draft_positions):\n",
    "    '''\n",
    "    def calculate_grade calculates draft grade by predicted ranking\n",
    "\n",
    "    params: user_draft (list): list of players user has drafted\n",
    "            draft_positions (list): list of positions user is drafting in\n",
    "    returns: grade (string): letter grade assigned to value, prints predicted score and your score as well\n",
    "    '''\n",
    "\n",
    "    predicted_score = 0 # predicted score is based on player ranking from previous seasons, by adding all the picks we should get the predicted score as the predicted draft will be the player rated at that draft pick (i.e. the 72nd pick will be the 72nd best player)\n",
    "    for round in draft_positions:\n",
    "        predicted_score += round\n",
    "    \n",
    "    print(f\"your predicted score is: {predicted_score}\")\n",
    "\n",
    "    score = 0\n",
    "    for player in user_draft:\n",
    "        score += player['search_rank']\n",
    "\n",
    "    print(f\"your score is: {score}\") # printing both predicted and real score to let user see a little on how it was graded\n",
    "\n",
    "    print(\"your draft grade is: \")\n",
    "    if score <= predicted_score - 75:\n",
    "        return \"S\"\n",
    "    if score <= predicted_score - 50:\n",
    "        return \"A\"\n",
    "    if score <= predicted_score - 25:\n",
    "        return \"B\"\n",
    "    if score <= predicted_score or score <= predicted_score + 25:\n",
    "        return \"C\"\n",
    "    if score <= predicted_score + 50:\n",
    "        return \"D\"\n",
    "    else:\n",
    "        return \"F\"\n",
    "    \n",
    "    # overall this scoring part needs work but i spent the last two weeks drawing up ways on how i can do it better to no avail. this will be worked on for v2"
   ]
  },
  {
   "cell_type": "code",
   "execution_count": 8,
   "metadata": {},
   "outputs": [],
   "source": [
    "def read_players(filename):\n",
    "    '''def read_players reads in players into json file\n",
    "\n",
    "    params: filename (string): filename to read\n",
    "    returns: player_dict (dictionary): dictionary with all players\n",
    "    '''\n",
    "    with open(filename , \"r\") as fo:\n",
    "        player_dict = json.load(fo) \n",
    "    return player_dict"
   ]
  },
  {
   "cell_type": "code",
   "execution_count": null,
   "metadata": {},
   "outputs": [],
   "source": [
    "def read_csv(filename):\n",
    "    with open(filename, 'r') as csv_file:\n",
    "        # creating csv reader\n",
    "        csv_reader = csv.DictReader(csv_file)\n",
    "\n",
    "        # creating list to store json objects\n",
    "        json_data = []\n",
    "\n",
    "        for row in csv_reader:\n",
    "            json_data.append(row)\n",
    "\n",
    "    "
   ]
  },
  {
   "cell_type": "code",
   "execution_count": null,
   "metadata": {},
   "outputs": [
    {
     "name": "stdout",
     "output_type": "stream",
     "text": [
      "player  not found\n",
      "try again!\n",
      "player  not found\n",
      "try again!\n",
      "player  not found\n",
      "try again!\n",
      "player  not found\n",
      "try again!\n",
      "player  not found\n",
      "try again!\n",
      "player  not found\n",
      "try again!\n",
      "player  not found\n",
      "try again!\n",
      "player  not found\n",
      "try again!\n",
      "player  not found\n",
      "try again!\n",
      "player  not found\n",
      "try again!\n"
     ]
    }
   ],
   "source": [
    "user_draft = []\n",
    "player_dict = read_players(\"players.json\")\n",
    "\n",
    "league_size = input(\"how many people are in your league? (input int, not string)\")\n",
    "team_size = input(\"how many players are on each team? (input int, not string)\")\n",
    "position = input(\"what number pick is your first pick? (input int, not string)\")\n",
    "\n",
    "draft_positions = predicted_spots(position, league_size, team_size)\n",
    "\n",
    "x = 0 # counter for how many picks\n",
    "while x < int(team_size): # user picks team\n",
    "    player_name = input(\"you are currently picking at pick \" + str(draft_positions[x]) + \". please input your player's full name!\")\n",
    "\n",
    "    drafted = draft(player_name, player_dict, user_draft) # originally this was in the if statement but it was printing twice so i fixed by doing this\n",
    "\n",
    "    if drafted == False:\n",
    "        print(\"try again!\")\n",
    "    else:\n",
    "        user_draft = drafted\n",
    "        x += 1\n",
    "\n",
    "print(calculate_grade(user_draft, draft_positions))"
   ]
  },
  {
   "cell_type": "markdown",
   "metadata": {},
   "source": [
    "Creating GUI"
   ]
  },
  {
   "cell_type": "code",
   "execution_count": 1,
   "metadata": {},
   "outputs": [
    {
     "name": "stdout",
     "output_type": "stream",
     "text": [
      "Defaulting to user installation because normal site-packages is not writeableNote: you may need to restart the kernel to use updated packages.\n",
      "\n",
      "Collecting streamlit\n",
      "  Downloading streamlit-1.39.0-py2.py3-none-any.whl.metadata (8.5 kB)\n",
      "Collecting altair<6,>=4.0 (from streamlit)\n",
      "  Downloading altair-5.4.1-py3-none-any.whl.metadata (9.4 kB)\n",
      "Collecting blinker<2,>=1.0.0 (from streamlit)\n",
      "  Downloading blinker-1.8.2-py3-none-any.whl.metadata (1.6 kB)\n",
      "Collecting cachetools<6,>=4.0 (from streamlit)\n",
      "  Downloading cachetools-5.5.0-py3-none-any.whl.metadata (5.3 kB)\n",
      "Collecting click<9,>=7.0 (from streamlit)\n",
      "  Downloading click-8.1.7-py3-none-any.whl.metadata (3.0 kB)\n",
      "Requirement already satisfied: numpy<3,>=1.20 in c:\\users\\hyunsoo\\appdata\\local\\packages\\pythonsoftwarefoundation.python.3.12_qbz5n2kfra8p0\\localcache\\local-packages\\python312\\site-packages (from streamlit) (1.26.4)\n",
      "Requirement already satisfied: packaging<25,>=20 in c:\\users\\hyunsoo\\appdata\\local\\packages\\pythonsoftwarefoundation.python.3.12_qbz5n2kfra8p0\\localcache\\local-packages\\python312\\site-packages (from streamlit) (23.2)\n",
      "Requirement already satisfied: pandas<3,>=1.4.0 in c:\\users\\hyunsoo\\appdata\\local\\packages\\pythonsoftwarefoundation.python.3.12_qbz5n2kfra8p0\\localcache\\local-packages\\python312\\site-packages (from streamlit) (2.2.1)\n",
      "Requirement already satisfied: pillow<11,>=7.1.0 in c:\\users\\hyunsoo\\appdata\\local\\packages\\pythonsoftwarefoundation.python.3.12_qbz5n2kfra8p0\\localcache\\local-packages\\python312\\site-packages (from streamlit) (10.3.0)\n",
      "Collecting protobuf<6,>=3.20 (from streamlit)\n",
      "  Downloading protobuf-5.28.3-cp310-abi3-win_amd64.whl.metadata (592 bytes)\n",
      "Collecting pyarrow>=7.0 (from streamlit)\n",
      "  Downloading pyarrow-18.0.0-cp312-cp312-win_amd64.whl.metadata (3.4 kB)\n",
      "Requirement already satisfied: requests<3,>=2.27 in c:\\users\\hyunsoo\\appdata\\local\\packages\\pythonsoftwarefoundation.python.3.12_qbz5n2kfra8p0\\localcache\\local-packages\\python312\\site-packages (from streamlit) (2.32.3)\n",
      "Collecting rich<14,>=10.14.0 (from streamlit)\n",
      "  Downloading rich-13.9.4-py3-none-any.whl.metadata (18 kB)\n",
      "Collecting tenacity<10,>=8.1.0 (from streamlit)\n",
      "  Downloading tenacity-9.0.0-py3-none-any.whl.metadata (1.2 kB)\n",
      "Collecting toml<2,>=0.10.1 (from streamlit)\n",
      "  Downloading toml-0.10.2-py2.py3-none-any.whl.metadata (7.1 kB)\n",
      "Collecting typing-extensions<5,>=4.3.0 (from streamlit)\n",
      "  Downloading typing_extensions-4.12.2-py3-none-any.whl.metadata (3.0 kB)\n",
      "Collecting gitpython!=3.1.19,<4,>=3.0.7 (from streamlit)\n",
      "  Downloading GitPython-3.1.43-py3-none-any.whl.metadata (13 kB)\n",
      "Collecting pydeck<1,>=0.8.0b4 (from streamlit)\n",
      "  Downloading pydeck-0.9.1-py2.py3-none-any.whl.metadata (4.1 kB)\n",
      "Requirement already satisfied: tornado<7,>=6.0.3 in c:\\users\\hyunsoo\\appdata\\local\\packages\\pythonsoftwarefoundation.python.3.12_qbz5n2kfra8p0\\localcache\\local-packages\\python312\\site-packages (from streamlit) (6.4)\n",
      "Collecting watchdog<6,>=2.1.5 (from streamlit)\n",
      "  Downloading watchdog-5.0.3-py3-none-win_amd64.whl.metadata (41 kB)\n",
      "Requirement already satisfied: jinja2 in c:\\users\\hyunsoo\\appdata\\local\\packages\\pythonsoftwarefoundation.python.3.12_qbz5n2kfra8p0\\localcache\\local-packages\\python312\\site-packages (from altair<6,>=4.0->streamlit) (3.1.4)\n",
      "Collecting jsonschema>=3.0 (from altair<6,>=4.0->streamlit)\n",
      "  Downloading jsonschema-4.23.0-py3-none-any.whl.metadata (7.9 kB)\n",
      "Collecting narwhals>=1.5.2 (from altair<6,>=4.0->streamlit)\n",
      "  Downloading narwhals-1.13.1-py3-none-any.whl.metadata (7.2 kB)\n",
      "Requirement already satisfied: colorama in c:\\users\\hyunsoo\\appdata\\local\\packages\\pythonsoftwarefoundation.python.3.12_qbz5n2kfra8p0\\localcache\\local-packages\\python312\\site-packages (from click<9,>=7.0->streamlit) (0.4.6)\n",
      "Collecting gitdb<5,>=4.0.1 (from gitpython!=3.1.19,<4,>=3.0.7->streamlit)\n",
      "  Downloading gitdb-4.0.11-py3-none-any.whl.metadata (1.2 kB)\n",
      "Requirement already satisfied: python-dateutil>=2.8.2 in c:\\users\\hyunsoo\\appdata\\local\\packages\\pythonsoftwarefoundation.python.3.12_qbz5n2kfra8p0\\localcache\\local-packages\\python312\\site-packages (from pandas<3,>=1.4.0->streamlit) (2.8.2)\n",
      "Requirement already satisfied: pytz>=2020.1 in c:\\users\\hyunsoo\\appdata\\local\\packages\\pythonsoftwarefoundation.python.3.12_qbz5n2kfra8p0\\localcache\\local-packages\\python312\\site-packages (from pandas<3,>=1.4.0->streamlit) (2024.1)\n",
      "Requirement already satisfied: tzdata>=2022.7 in c:\\users\\hyunsoo\\appdata\\local\\packages\\pythonsoftwarefoundation.python.3.12_qbz5n2kfra8p0\\localcache\\local-packages\\python312\\site-packages (from pandas<3,>=1.4.0->streamlit) (2024.1)\n",
      "Requirement already satisfied: charset-normalizer<4,>=2 in c:\\users\\hyunsoo\\appdata\\local\\packages\\pythonsoftwarefoundation.python.3.12_qbz5n2kfra8p0\\localcache\\local-packages\\python312\\site-packages (from requests<3,>=2.27->streamlit) (3.3.2)\n",
      "Requirement already satisfied: idna<4,>=2.5 in c:\\users\\hyunsoo\\appdata\\local\\packages\\pythonsoftwarefoundation.python.3.12_qbz5n2kfra8p0\\localcache\\local-packages\\python312\\site-packages (from requests<3,>=2.27->streamlit) (3.7)\n",
      "Requirement already satisfied: urllib3<3,>=1.21.1 in c:\\users\\hyunsoo\\appdata\\local\\packages\\pythonsoftwarefoundation.python.3.12_qbz5n2kfra8p0\\localcache\\local-packages\\python312\\site-packages (from requests<3,>=2.27->streamlit) (2.2.1)\n",
      "Requirement already satisfied: certifi>=2017.4.17 in c:\\users\\hyunsoo\\appdata\\local\\packages\\pythonsoftwarefoundation.python.3.12_qbz5n2kfra8p0\\localcache\\local-packages\\python312\\site-packages (from requests<3,>=2.27->streamlit) (2024.2.2)\n",
      "Collecting markdown-it-py>=2.2.0 (from rich<14,>=10.14.0->streamlit)\n",
      "  Downloading markdown_it_py-3.0.0-py3-none-any.whl.metadata (6.9 kB)\n",
      "Requirement already satisfied: pygments<3.0.0,>=2.13.0 in c:\\users\\hyunsoo\\appdata\\local\\packages\\pythonsoftwarefoundation.python.3.12_qbz5n2kfra8p0\\localcache\\local-packages\\python312\\site-packages (from rich<14,>=10.14.0->streamlit) (2.17.2)\n",
      "Collecting smmap<6,>=3.0.1 (from gitdb<5,>=4.0.1->gitpython!=3.1.19,<4,>=3.0.7->streamlit)\n",
      "  Downloading smmap-5.0.1-py3-none-any.whl.metadata (4.3 kB)\n",
      "Requirement already satisfied: MarkupSafe>=2.0 in c:\\users\\hyunsoo\\appdata\\local\\packages\\pythonsoftwarefoundation.python.3.12_qbz5n2kfra8p0\\localcache\\local-packages\\python312\\site-packages (from jinja2->altair<6,>=4.0->streamlit) (2.1.5)\n",
      "Collecting attrs>=22.2.0 (from jsonschema>=3.0->altair<6,>=4.0->streamlit)\n",
      "  Downloading attrs-24.2.0-py3-none-any.whl.metadata (11 kB)\n",
      "Collecting jsonschema-specifications>=2023.03.6 (from jsonschema>=3.0->altair<6,>=4.0->streamlit)\n",
      "  Downloading jsonschema_specifications-2024.10.1-py3-none-any.whl.metadata (3.0 kB)\n",
      "Collecting referencing>=0.28.4 (from jsonschema>=3.0->altair<6,>=4.0->streamlit)\n",
      "  Downloading referencing-0.35.1-py3-none-any.whl.metadata (2.8 kB)\n",
      "Collecting rpds-py>=0.7.1 (from jsonschema>=3.0->altair<6,>=4.0->streamlit)\n",
      "  Downloading rpds_py-0.20.1-cp312-none-win_amd64.whl.metadata (4.2 kB)\n",
      "Collecting mdurl~=0.1 (from markdown-it-py>=2.2.0->rich<14,>=10.14.0->streamlit)\n",
      "  Downloading mdurl-0.1.2-py3-none-any.whl.metadata (1.6 kB)\n",
      "Requirement already satisfied: six>=1.5 in c:\\users\\hyunsoo\\appdata\\local\\packages\\pythonsoftwarefoundation.python.3.12_qbz5n2kfra8p0\\localcache\\local-packages\\python312\\site-packages (from python-dateutil>=2.8.2->pandas<3,>=1.4.0->streamlit) (1.16.0)\n",
      "Downloading streamlit-1.39.0-py2.py3-none-any.whl (8.7 MB)\n",
      "   ---------------------------------------- 0.0/8.7 MB ? eta -:--:--\n",
      "   --- ------------------------------------ 0.8/8.7 MB 5.6 MB/s eta 0:00:02\n",
      "   -------- ------------------------------- 1.8/8.7 MB 7.2 MB/s eta 0:00:01\n",
      "   ------------------------- -------------- 5.5/8.7 MB 10.2 MB/s eta 0:00:01\n",
      "   ----------------------------------- ---- 7.9/8.7 MB 10.8 MB/s eta 0:00:01\n",
      "   ---------------------------------------- 8.7/8.7 MB 10.2 MB/s eta 0:00:00\n",
      "Downloading altair-5.4.1-py3-none-any.whl (658 kB)\n",
      "   ---------------------------------------- 0.0/658.1 kB ? eta -:--:--\n",
      "   --------------------------------------- 658.1/658.1 kB 12.4 MB/s eta 0:00:00\n",
      "Downloading blinker-1.8.2-py3-none-any.whl (9.5 kB)\n",
      "Downloading cachetools-5.5.0-py3-none-any.whl (9.5 kB)\n",
      "Downloading click-8.1.7-py3-none-any.whl (97 kB)\n",
      "Downloading GitPython-3.1.43-py3-none-any.whl (207 kB)\n",
      "Downloading protobuf-5.28.3-cp310-abi3-win_amd64.whl (431 kB)\n",
      "Downloading pyarrow-18.0.0-cp312-cp312-win_amd64.whl (25.1 MB)\n",
      "   ---------------------------------------- 0.0/25.1 MB ? eta -:--:--\n",
      "   --- ------------------------------------ 2.1/25.1 MB 10.7 MB/s eta 0:00:03\n",
      "   ------ --------------------------------- 4.2/25.1 MB 10.5 MB/s eta 0:00:02\n",
      "   --------- ------------------------------ 6.0/25.1 MB 10.0 MB/s eta 0:00:02\n",
      "   ------------- -------------------------- 8.7/25.1 MB 10.7 MB/s eta 0:00:02\n",
      "   ---------------- ----------------------- 10.5/25.1 MB 10.4 MB/s eta 0:00:02\n",
      "   -------------------- ------------------- 13.1/25.1 MB 10.8 MB/s eta 0:00:02\n",
      "   ------------------------ --------------- 15.2/25.1 MB 10.7 MB/s eta 0:00:01\n",
      "   ---------------------------- ----------- 17.6/25.1 MB 10.9 MB/s eta 0:00:01\n",
      "   ------------------------------- -------- 19.7/25.1 MB 10.9 MB/s eta 0:00:01\n",
      "   --------------------------------- ------ 21.2/25.1 MB 10.6 MB/s eta 0:00:01\n",
      "   ------------------------------------- -- 23.3/25.1 MB 10.5 MB/s eta 0:00:01\n",
      "   ---------------------------------------- 25.1/25.1 MB 10.3 MB/s eta 0:00:00\n",
      "Downloading pydeck-0.9.1-py2.py3-none-any.whl (6.9 MB)\n",
      "   ---------------------------------------- 0.0/6.9 MB ? eta -:--:--\n",
      "   ---------- ----------------------------- 1.8/6.9 MB 10.1 MB/s eta 0:00:01\n",
      "   ------------------------- -------------- 4.5/6.9 MB 11.2 MB/s eta 0:00:01\n",
      "   ---------------------------------------  6.8/6.9 MB 11.3 MB/s eta 0:00:01\n",
      "   ---------------------------------------- 6.9/6.9 MB 11.2 MB/s eta 0:00:00\n",
      "Downloading rich-13.9.4-py3-none-any.whl (242 kB)\n",
      "Downloading tenacity-9.0.0-py3-none-any.whl (28 kB)\n",
      "Downloading toml-0.10.2-py2.py3-none-any.whl (16 kB)\n",
      "Downloading typing_extensions-4.12.2-py3-none-any.whl (37 kB)\n",
      "Downloading watchdog-5.0.3-py3-none-win_amd64.whl (79 kB)\n",
      "Downloading gitdb-4.0.11-py3-none-any.whl (62 kB)\n",
      "Downloading jsonschema-4.23.0-py3-none-any.whl (88 kB)\n",
      "Downloading markdown_it_py-3.0.0-py3-none-any.whl (87 kB)\n",
      "Downloading narwhals-1.13.1-py3-none-any.whl (198 kB)\n",
      "Downloading attrs-24.2.0-py3-none-any.whl (63 kB)\n",
      "Downloading jsonschema_specifications-2024.10.1-py3-none-any.whl (18 kB)\n",
      "Downloading mdurl-0.1.2-py3-none-any.whl (10.0 kB)\n",
      "Downloading referencing-0.35.1-py3-none-any.whl (26 kB)\n",
      "Downloading rpds_py-0.20.1-cp312-none-win_amd64.whl (220 kB)\n",
      "Downloading smmap-5.0.1-py3-none-any.whl (24 kB)\n",
      "Installing collected packages: watchdog, typing-extensions, toml, tenacity, smmap, rpds-py, pyarrow, protobuf, narwhals, mdurl, click, cachetools, blinker, attrs, referencing, pydeck, markdown-it-py, gitdb, rich, jsonschema-specifications, gitpython, jsonschema, altair, streamlit\n",
      "Successfully installed altair-5.4.1 attrs-24.2.0 blinker-1.8.2 cachetools-5.5.0 click-8.1.7 gitdb-4.0.11 gitpython-3.1.43 jsonschema-4.23.0 jsonschema-specifications-2024.10.1 markdown-it-py-3.0.0 mdurl-0.1.2 narwhals-1.13.1 protobuf-5.28.3 pyarrow-18.0.0 pydeck-0.9.1 referencing-0.35.1 rich-13.9.4 rpds-py-0.20.1 smmap-5.0.1 streamlit-1.39.0 tenacity-9.0.0 toml-0.10.2 typing-extensions-4.12.2 watchdog-5.0.3\n"
     ]
    },
    {
     "name": "stderr",
     "output_type": "stream",
     "text": [
      "\n",
      "[notice] A new release of pip is available: 24.2 -> 24.3.1\n",
      "[notice] To update, run: C:\\Users\\hyunsoo\\AppData\\Local\\Microsoft\\WindowsApps\\PythonSoftwareFoundation.Python.3.12_qbz5n2kfra8p0\\python.exe -m pip install --upgrade pip\n"
     ]
    }
   ],
   "source": [
    "%pip install streamlit"
   ]
  },
  {
   "cell_type": "code",
   "execution_count": 4,
   "metadata": {},
   "outputs": [],
   "source": [
    "import streamlit as st"
   ]
  },
  {
   "cell_type": "code",
   "execution_count": 5,
   "metadata": {},
   "outputs": [
    {
     "name": "stderr",
     "output_type": "stream",
     "text": [
      "2024-11-05 00:51:05.338 WARNING streamlit.runtime.scriptrunner_utils.script_run_context: Thread 'MainThread': missing ScriptRunContext! This warning can be ignored when running in bare mode.\n",
      "2024-11-05 00:51:05.729 \n",
      "  \u001b[33m\u001b[1mWarning:\u001b[0m to view this Streamlit app on a browser, run it with the following\n",
      "  command:\n",
      "\n",
      "    streamlit run C:\\Users\\hyunsoo\\AppData\\Local\\Packages\\PythonSoftwareFoundation.Python.3.12_qbz5n2kfra8p0\\LocalCache\\local-packages\\Python312\\site-packages\\ipykernel_launcher.py [ARGUMENTS]\n",
      "2024-11-05 00:51:05.729 Thread 'MainThread': missing ScriptRunContext! This warning can be ignored when running in bare mode.\n",
      "2024-11-05 00:51:05.730 Thread 'MainThread': missing ScriptRunContext! This warning can be ignored when running in bare mode.\n",
      "2024-11-05 00:51:05.730 Thread 'MainThread': missing ScriptRunContext! This warning can be ignored when running in bare mode.\n"
     ]
    }
   ],
   "source": [
    "# just trying to create a streamlit application, import of backend will come in part 2b\n",
    "\n",
    "st.write(\"hello world\")"
   ]
  },
  {
   "cell_type": "code",
   "execution_count": null,
   "metadata": {},
   "outputs": [],
   "source": []
  }
 ],
 "metadata": {
  "kernelspec": {
   "display_name": "Python 3",
   "language": "python",
   "name": "python3"
  },
  "language_info": {
   "codemirror_mode": {
    "name": "ipython",
    "version": 3
   },
   "file_extension": ".py",
   "mimetype": "text/x-python",
   "name": "python",
   "nbconvert_exporter": "python",
   "pygments_lexer": "ipython3",
   "version": "3.8.5"
  }
 },
 "nbformat": 4,
 "nbformat_minor": 2
}
