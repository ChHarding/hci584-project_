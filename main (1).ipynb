{
 "cells": [
  {
   "cell_type": "markdown",
   "metadata": {},
   "source": [
    "Starting with creating a CLI version of my program."
   ]
  },
  {
   "cell_type": "markdown",
   "metadata": {},
   "source": [
    "Starting off with creating a simple version of my program that can run with csv files. Does not take into account draft position or how many players your team can fit."
   ]
  },
  {
   "cell_type": "code",
   "execution_count": 37,
   "metadata": {},
   "outputs": [
    {
     "name": "stdout",
     "output_type": "stream",
     "text": [
      "Defaulting to user installation because normal site-packages is not writeable\n",
      "Collecting sleeper-py\n",
      "  Downloading sleeper_py-1.0.1-py3-none-any.whl.metadata (4.4 kB)\n",
      "Requirement already satisfied: requests>=2.28.1 in c:\\users\\hyunsoo\\appdata\\local\\packages\\pythonsoftwarefoundation.python.3.12_qbz5n2kfra8p0\\localcache\\local-packages\\python312\\site-packages (from sleeper-py) (2.32.3)\n",
      "Requirement already satisfied: charset-normalizer<4,>=2 in c:\\users\\hyunsoo\\appdata\\local\\packages\\pythonsoftwarefoundation.python.3.12_qbz5n2kfra8p0\\localcache\\local-packages\\python312\\site-packages (from requests>=2.28.1->sleeper-py) (3.3.2)\n",
      "Requirement already satisfied: idna<4,>=2.5 in c:\\users\\hyunsoo\\appdata\\local\\packages\\pythonsoftwarefoundation.python.3.12_qbz5n2kfra8p0\\localcache\\local-packages\\python312\\site-packages (from requests>=2.28.1->sleeper-py) (3.7)\n",
      "Requirement already satisfied: urllib3<3,>=1.21.1 in c:\\users\\hyunsoo\\appdata\\local\\packages\\pythonsoftwarefoundation.python.3.12_qbz5n2kfra8p0\\localcache\\local-packages\\python312\\site-packages (from requests>=2.28.1->sleeper-py) (2.2.1)\n",
      "Requirement already satisfied: certifi>=2017.4.17 in c:\\users\\hyunsoo\\appdata\\local\\packages\\pythonsoftwarefoundation.python.3.12_qbz5n2kfra8p0\\localcache\\local-packages\\python312\\site-packages (from requests>=2.28.1->sleeper-py) (2024.2.2)\n",
      "Downloading sleeper_py-1.0.1-py3-none-any.whl (7.5 kB)\n",
      "Installing collected packages: sleeper-py\n",
      "Successfully installed sleeper-py-1.0.1\n",
      "Note: you may need to restart the kernel to use updated packages.\n"
     ]
    }
   ],
   "source": [
    "pip install sleeper-py\n",
    "# found this resource on the internet when looking for sleeper api python on accident, decided to try it out"
   ]
  },
  {
   "cell_type": "code",
   "execution_count": 2,
   "metadata": {},
   "outputs": [],
   "source": [
    "# import packages\n",
    "import pandas as pd\n",
    "import requests\n",
    "from pprint import pprint\n",
    "import json\n",
    "import csv"
   ]
  },
  {
   "cell_type": "code",
   "execution_count": 3,
   "metadata": {},
   "outputs": [],
   "source": [
    "# constants\n",
    "API = \"https://api.sleeper.app/v1/players/nfl\""
   ]
  },
  {
   "cell_type": "markdown",
   "metadata": {},
   "source": [
    "Starting with actual code"
   ]
  },
  {
   "cell_type": "code",
   "execution_count": 4,
   "metadata": {},
   "outputs": [
    {
     "data": {
      "text/plain": [
       "<Response [200]>"
      ]
     },
     "metadata": {},
     "output_type": "display_data"
    },
    {
     "name": "stdout",
     "output_type": "stream",
     "text": [
      "https://api.sleeper.app/v1/players/nfl\n"
     ]
    }
   ],
   "source": [
    "# get response from api request\n",
    "response = requests.get(API)\n",
    "display(response)\n",
    "print(response.url)"
   ]
  },
  {
   "cell_type": "code",
   "execution_count": 5,
   "metadata": {},
   "outputs": [],
   "source": [
    "def draft(player_name, player_dict, user_draft):\n",
    "    '''finds player and add to list of user's players\n",
    "    params: player_name (string)\n",
    "            player_dict (dict)\n",
    "            user_draft (list)\n",
    "    returns: user_draft\n",
    "    '''\n",
    "    found_player = False\n",
    "    for key in player_dict: # looking for player by iterating through dictionary\n",
    "        player = player_dict[key]\n",
    "        full_name = (player['first_name'] + \" \" + player['last_name']).lower()\n",
    "        if full_name == player_name.lower(): # player is only appended if name in dictionary is same\n",
    "            user_draft.append(player)\n",
    "            print(f\"you have drafted {player_name}\")\n",
    "            found_player = True\n",
    "\n",
    "    if found_player == False: # returns false if player not found\n",
    "        print(f\"player {player_name} not found\")\n",
    "        return False\n",
    "    else:\n",
    "        return user_draft"
   ]
  },
  {
   "cell_type": "code",
   "execution_count": 6,
   "metadata": {},
   "outputs": [],
   "source": [
    "def predicted_spots(position, league_size, team_size):\n",
    "    '''def predicted_spots returns all predicted draft spots the user will draft at\n",
    "    \n",
    "    params: position (string): position that player's first pick is\n",
    "            league_size (string): number of people in the league\n",
    "            team_size (string): number of players on each team\n",
    "    '''\n",
    "    draft_order = [] # list for all picks\n",
    "    current_pick = int(position) # starting at the first pick\n",
    "    \n",
    "    for round_number in range(int(team_size)):\n",
    "        if round_number % 2 == 0: # regular order for odd rounds\n",
    "            current_round = list(range(1, int(league_size) + 1))\n",
    "        else: # reverse order for even rounds (snake draft)\n",
    "            current_round = list(range(int(league_size), 0, -1))\n",
    "        \n",
    "        # calculate total pick number\n",
    "        draft_order.append(current_pick + current_round[int(position) - 1] - 1)\n",
    "        current_pick += int(league_size)\n",
    "    \n",
    "    return draft_order"
   ]
  },
  {
   "cell_type": "code",
   "execution_count": 37,
   "metadata": {},
   "outputs": [],
   "source": [
    "def predicted_draft(league_type, draft_order):\n",
    "    predicted = []\n",
    "\n",
    "    if league_type == \"standard\":\n",
    "        for spot in draft_order:\n",
    "            spot_str = str(spot)\n",
    "            for player in standard:\n",
    "                if player['Rank'] == spot_str:\n",
    "                    predicted.append(player['Player'])\n",
    "    elif league_type == \"full ppr\":\n",
    "        for spot in draft_order:\n",
    "            spot_str = str(spot)\n",
    "            for player in full_ppr:\n",
    "                if player['Rank'] == spot_str:\n",
    "                    predicted.append(player['Player'])\n",
    "    else:\n",
    "        for spot in draft_order:\n",
    "            spot_str = str(spot)\n",
    "            for player in half_ppr:\n",
    "                if player['Rank'] == spot_str:\n",
    "                    predicted.append(player['Player'])\n",
    "\n",
    "    return predicted"
   ]
  },
  {
   "cell_type": "code",
   "execution_count": 38,
   "metadata": {},
   "outputs": [
    {
     "name": "stdout",
     "output_type": "stream",
     "text": [
      "[1, 24, 25, 48, 49, 72, 73, 96, 97, 120, 121, 144, 145, 168, 169]\n"
     ]
    }
   ],
   "source": [
    "# testing predicted_spots\n",
    "print(predicted_spots(\"1\", \"12\", \"15\"))"
   ]
  },
  {
   "cell_type": "code",
   "execution_count": 39,
   "metadata": {},
   "outputs": [
    {
     "name": "stdout",
     "output_type": "stream",
     "text": [
      "['Christian McCaffrey', 'Josh Jacobs', 'Travis Kelce', 'Trey McBride', 'Mark Andrews', 'Rome Odunze', 'Zamir White', 'Devin Singletary', 'Brock Purdy', 'Curtis Samuel', 'Romeo Doubs', 'Tyler Allgeier', 'Gabe Davis', 'Isaiah Likely', 'Quentin Johnston']\n"
     ]
    }
   ],
   "source": [
    "# testing predicted_draft\n",
    "test_predicted_spots = predicted_spots(\"1\", \"12\", \"15\")\n",
    "print(predicted_draft(\"standard\", test_predicted_spots))"
   ]
  },
  {
   "cell_type": "code",
   "execution_count": null,
   "metadata": {},
   "outputs": [],
   "source": [
    "def calculate_grade(user_draft, draft_positions, league_type):\n",
    "    '''\n",
    "    def calculate_grade calculates draft grade by predicted ranking\n",
    "\n",
    "    params: user_draft (list): list of players user has drafted\n",
    "            draft_positions (list): list of positions user is drafting in\n",
    "    returns: grade (string): letter grade assigned to value, prints predicted score and your score as well\n",
    "    '''\n",
    "\n",
    "    predicted_score = 0 # predicted score is based on player ranking from previous seasons, by adding all the picks we should get the predicted score as the predicted draft will be the player rated at that draft pick (i.e. the 72nd pick will be the 72nd best player)\n",
    "    for round in draft_positions:\n",
    "        predicted_score += round\n",
    "    \n",
    "    print(f\"your predicted score is: {predicted_score}\")\n",
    "\n",
    "    # if statements for each type of scoring\n",
    "    # in each if statement, use player_name from user_draft players to find player ranking in separate scoring system\n",
    "    # for key in (standard, etc.)\n",
    "    # add those rankings together to create predicted score\n",
    "    # probably need to convert type from string to int and then add everything up\n",
    "\n",
    "    score = 0\n",
    "\n",
    "    if league_type == \"standard\":\n",
    "        for player in user_draft:\n",
    "            full_name = (player['first_name'] + \" \" + player['last_name']).lower()\n",
    "            \n",
    "\n",
    "    for player in user_draft:\n",
    "        score += player['search_rank']\n",
    "\n",
    "    print(f\"your score is: {score}\") # printing both predicted and real score to let user see a little on how it was graded\n",
    "\n",
    "    \n",
    "\n",
    "    print(\"your draft grade is: \")\n",
    "    if score <= predicted_score - 75:\n",
    "        return \"S\"\n",
    "    if score <= predicted_score - 50:\n",
    "        return \"A\"\n",
    "    if score <= predicted_score - 25:\n",
    "        return \"B\"\n",
    "    if score <= predicted_score or score <= predicted_score + 25:\n",
    "        return \"C\"\n",
    "    if score <= predicted_score + 50:\n",
    "        return \"D\"\n",
    "    else:\n",
    "        return \"F\""
   ]
  },
  {
   "cell_type": "code",
   "execution_count": 10,
   "metadata": {},
   "outputs": [],
   "source": [
    "def read_players(filename):\n",
    "    '''def read_players reads in players into json file\n",
    "\n",
    "    params: filename (string): filename to read\n",
    "    returns: player_dict (dictionary): dictionary with all players\n",
    "    '''\n",
    "    with open(filename , \"r\") as fo:\n",
    "        player_dict = json.load(fo) \n",
    "    return player_dict"
   ]
  },
  {
   "cell_type": "code",
   "execution_count": 23,
   "metadata": {},
   "outputs": [],
   "source": [
    "def csv_to_json(csv_filename, json_filename):\n",
    "    # Read the CSV file\n",
    "    with open(csv_filename, mode='r', encoding='utf-8') as csv_file:\n",
    "        csv_reader = csv.DictReader(csv_file)\n",
    "            \n",
    "        # Convert rows to a list of dictionaries\n",
    "        data = [row for row in csv_reader]\n",
    "\n",
    "    # Write data to a JSON file\n",
    "    with open(json_filename, mode='w', encoding='utf-8') as json_file:\n",
    "        json.dump(data, json_file, indent=4)\n",
    "\n",
    "    print(f\"JSON file has been created at: {json_filename}\")\n",
    "    return json_filename"
   ]
  },
  {
   "cell_type": "code",
   "execution_count": 34,
   "metadata": {},
   "outputs": [
    {
     "name": "stdout",
     "output_type": "stream",
     "text": [
      "JSON file has been created at: standard.json\n",
      "JSON file has been created at: half ppr.json\n",
      "JSON file has been created at: full ppr.json\n"
     ]
    }
   ],
   "source": [
    "user_draft = []\n",
    "player_dict = read_players(\"players.json\")\n",
    "standard_json = csv_to_json(\"beatadp_standard_combined__sleeper_rankings.csv\", \"standard.json\")\n",
    "half_ppr_json = csv_to_json(\"beatadp_halfppr_combined__sleeper_rankings.csv\", \"half ppr.json\")\n",
    "full_ppr_json = csv_to_json(\"beatadp_ppr_combined__sleeper_rankings.csv\", \"full ppr.json\")\n",
    "standard = read_players(\"standard.json\")\n",
    "half_ppr = read_players(\"half ppr.json\")\n",
    "full_ppr = read_players(\"full ppr.json\")"
   ]
  },
  {
   "cell_type": "code",
   "execution_count": null,
   "metadata": {},
   "outputs": [
    {
     "name": "stdout",
     "output_type": "stream",
     "text": [
      "Conversion successful! JSON file saved at: standard\n",
      "Conversion successful! JSON file saved at: half ppr\n",
      "Conversion successful! JSON file saved at: full ppr\n"
     ]
    },
    {
     "ename": "ValueError",
     "evalue": "invalid literal for int() with base 10: ''",
     "output_type": "error",
     "traceback": [
      "\u001b[1;31m---------------------------------------------------------------------------\u001b[0m",
      "\u001b[1;31mValueError\u001b[0m                                Traceback (most recent call last)",
      "\u001b[1;32m<ipython-input-14-ba020c6ecb01>\u001b[0m in \u001b[0;36m<module>\u001b[1;34m\u001b[0m\n\u001b[0;32m      9\u001b[0m \u001b[0mposition\u001b[0m \u001b[1;33m=\u001b[0m \u001b[0minput\u001b[0m\u001b[1;33m(\u001b[0m\u001b[1;34m\"what number pick is your first pick? (input int, not string)\"\u001b[0m\u001b[1;33m)\u001b[0m\u001b[1;33m\u001b[0m\u001b[1;33m\u001b[0m\u001b[0m\n\u001b[0;32m     10\u001b[0m \u001b[1;33m\u001b[0m\u001b[0m\n\u001b[1;32m---> 11\u001b[1;33m \u001b[0mdraft_positions\u001b[0m \u001b[1;33m=\u001b[0m \u001b[0mpredicted_spots\u001b[0m\u001b[1;33m(\u001b[0m\u001b[0mposition\u001b[0m\u001b[1;33m,\u001b[0m \u001b[0mleague_size\u001b[0m\u001b[1;33m,\u001b[0m \u001b[0mteam_size\u001b[0m\u001b[1;33m)\u001b[0m\u001b[1;33m\u001b[0m\u001b[1;33m\u001b[0m\u001b[0m\n\u001b[0m\u001b[0;32m     12\u001b[0m \u001b[1;33m\u001b[0m\u001b[0m\n\u001b[0;32m     13\u001b[0m \u001b[0mx\u001b[0m \u001b[1;33m=\u001b[0m \u001b[1;36m0\u001b[0m \u001b[1;31m# counter for how many picks\u001b[0m\u001b[1;33m\u001b[0m\u001b[1;33m\u001b[0m\u001b[0m\n",
      "\u001b[1;32m<ipython-input-9-fcfde9c767b6>\u001b[0m in \u001b[0;36mpredicted_spots\u001b[1;34m(position, league_size, team_size)\u001b[0m\n\u001b[0;32m      7\u001b[0m     '''\n\u001b[0;32m      8\u001b[0m     \u001b[0mdraft_order\u001b[0m \u001b[1;33m=\u001b[0m \u001b[1;33m[\u001b[0m\u001b[1;33m]\u001b[0m \u001b[1;31m# list for all picks\u001b[0m\u001b[1;33m\u001b[0m\u001b[1;33m\u001b[0m\u001b[0m\n\u001b[1;32m----> 9\u001b[1;33m     \u001b[0mcurrent_pick\u001b[0m \u001b[1;33m=\u001b[0m \u001b[0mint\u001b[0m\u001b[1;33m(\u001b[0m\u001b[0mposition\u001b[0m\u001b[1;33m)\u001b[0m \u001b[1;31m# starting at the first pick\u001b[0m\u001b[1;33m\u001b[0m\u001b[1;33m\u001b[0m\u001b[0m\n\u001b[0m\u001b[0;32m     10\u001b[0m \u001b[1;33m\u001b[0m\u001b[0m\n\u001b[0;32m     11\u001b[0m     \u001b[1;32mfor\u001b[0m \u001b[0mround_number\u001b[0m \u001b[1;32min\u001b[0m \u001b[0mrange\u001b[0m\u001b[1;33m(\u001b[0m\u001b[0mint\u001b[0m\u001b[1;33m(\u001b[0m\u001b[0mteam_size\u001b[0m\u001b[1;33m)\u001b[0m\u001b[1;33m)\u001b[0m\u001b[1;33m:\u001b[0m\u001b[1;33m\u001b[0m\u001b[1;33m\u001b[0m\u001b[0m\n",
      "\u001b[1;31mValueError\u001b[0m: invalid literal for int() with base 10: ''"
     ]
    }
   ],
   "source": [
    "user_draft = []\n",
    "player_dict = read_players(\"players.json\")\n",
    "standard = csv_to_json(\"beatadp_standard_combined__sleeper_rankings.csv\", \"standard\")\n",
    "half_ppr = csv_to_json(\"beatadp_halfppr_combined__sleeper_rankings.csv\", \"half ppr\")\n",
    "full_ppr = csv_to_json(\"beatadp_ppr_combined__sleeper_rankings.csv\", \"full ppr\")\n",
    "\n",
    "league_size = input(\"how many people are in your league? (input int, not string)\")\n",
    "team_size = input(\"how many players are on each team? (input int, not string)\")\n",
    "position = input(\"what number pick is your first pick? (input int, not string)\")\n",
    "league_type = input(\"please input standard, full ppr or half ppr for your league type:\")\n",
    "\n",
    "draft_positions = predicted_spots(position, league_size, team_size)\n",
    "\n",
    "x = 0 # counter for how many picks\n",
    "while x < int(team_size): # user picks team\n",
    "    player_name = input(\"you are currently picking at pick \" + str(draft_positions[x]) + \". please input your player's full name!\")\n",
    "\n",
    "    drafted = draft(player_name, player_dict, user_draft) # originally this was in the if statement but it was printing twice so i fixed by doing this\n",
    "\n",
    "    if drafted == False:\n",
    "        print(\"try again!\")\n",
    "    else:\n",
    "        user_draft = drafted\n",
    "        x += 1\n",
    "\n",
    "print(calculate_grade(user_draft, draft_positions))"
   ]
  }
 ],
 "metadata": {
  "kernelspec": {
   "display_name": "Python 3",
   "language": "python",
   "name": "python3"
  },
  "language_info": {
   "codemirror_mode": {
    "name": "ipython",
    "version": 3
   },
   "file_extension": ".py",
   "mimetype": "text/x-python",
   "name": "python",
   "nbconvert_exporter": "python",
   "pygments_lexer": "ipython3",
   "version": "3.8.5"
  }
 },
 "nbformat": 4,
 "nbformat_minor": 2
}
